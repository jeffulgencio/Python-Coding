{
 "cells": [
  {
   "cell_type": "markdown",
   "metadata": {},
   "source": [
    "### This notebook contains a python script that computes Risk Weighted Asset (RWA) and Expected Loss (EL) for a given set of Probability of Default (PD), Loss Given Default (LGD) and Exposure at Default (EAD) values"
   ]
  },
  {
   "cell_type": "code",
   "execution_count": 1,
   "metadata": {},
   "outputs": [],
   "source": [
    "def RWA(vector):\n",
    "    from math import exp\n",
    "    from scipy.stats import norm\n",
    "    \n",
    "    Assigned_PD = vector[0]\n",
    "    Assigned_LGD = vector[1]\n",
    "    EAD = vector[2]\n",
    "    \n",
    "    if Assigned_PD == 1:\n",
    "        R = 0\n",
    "        K = 0\n",
    "        RWA = 0\n",
    "        RW = 0\n",
    "        EL = 0\n",
    "    else:\n",
    "        R = 0.03*(1-exp(-35*Assigned_PD))/(1-exp(-35))+0.16*(1-(1-exp(-35*Assigned_PD))/(1-exp(-35)))\n",
    "        K = (Assigned_LGD*norm.cdf((1-R)**-0.5*norm.ppf(Assigned_PD)+(R/(1-R))**0.5*norm.ppf(0.999))-Assigned_PD*Assigned_LGD)\n",
    "        RWA = K*EAD*12.5*1.06\n",
    "        RW = K*12.5\n",
    "        EL = Assigned_PD*Assigned_LGD*EAD\n",
    "    \n",
    "    return pd.Series((R,K,RWA,EL))"
   ]
  },
  {
   "cell_type": "code",
   "execution_count": 2,
   "metadata": {},
   "outputs": [],
   "source": [
    "import pandas as pd\n",
    "import numpy as np"
   ]
  },
  {
   "cell_type": "code",
   "execution_count": 4,
   "metadata": {},
   "outputs": [],
   "source": [
    "lst_PD = [0.0929,0.1894]\n",
    "lst_LGD = [0.31,0.31]\n",
    "lst_EAD = [30880.46,115799.67]\n",
    "\n",
    "lst_AC1 = [0.0929,0.31,30880.46]\n",
    "lst_AC2 = [0.1894,0.31,115799.67]"
   ]
  },
  {
   "cell_type": "code",
   "execution_count": 7,
   "metadata": {},
   "outputs": [],
   "source": [
    "df = pd.DataFrame(data=[lst_AC1,lst_AC2],columns=['Assigned_PD','Assigned_LGD','Assigned_EAD'])"
   ]
  },
  {
   "cell_type": "code",
   "execution_count": 8,
   "metadata": {},
   "outputs": [
    {
     "data": {
      "text/html": [
       "<div>\n",
       "<style scoped>\n",
       "    .dataframe tbody tr th:only-of-type {\n",
       "        vertical-align: middle;\n",
       "    }\n",
       "\n",
       "    .dataframe tbody tr th {\n",
       "        vertical-align: top;\n",
       "    }\n",
       "\n",
       "    .dataframe thead th {\n",
       "        text-align: right;\n",
       "    }\n",
       "</style>\n",
       "<table border=\"1\" class=\"dataframe\">\n",
       "  <thead>\n",
       "    <tr style=\"text-align: right;\">\n",
       "      <th></th>\n",
       "      <th>Assigned_PD</th>\n",
       "      <th>Assigned_LGD</th>\n",
       "      <th>Assigned_EAD</th>\n",
       "    </tr>\n",
       "  </thead>\n",
       "  <tbody>\n",
       "    <tr>\n",
       "      <th>0</th>\n",
       "      <td>0.0929</td>\n",
       "      <td>0.31</td>\n",
       "      <td>30880.46</td>\n",
       "    </tr>\n",
       "    <tr>\n",
       "      <th>1</th>\n",
       "      <td>0.1894</td>\n",
       "      <td>0.31</td>\n",
       "      <td>115799.67</td>\n",
       "    </tr>\n",
       "  </tbody>\n",
       "</table>\n",
       "</div>"
      ],
      "text/plain": [
       "   Assigned_PD  Assigned_LGD  Assigned_EAD\n",
       "0       0.0929          0.31      30880.46\n",
       "1       0.1894          0.31     115799.67"
      ]
     },
     "execution_count": 8,
     "metadata": {},
     "output_type": "execute_result"
    }
   ],
   "source": [
    "df"
   ]
  },
  {
   "cell_type": "code",
   "execution_count": 9,
   "metadata": {},
   "outputs": [],
   "source": [
    "df[['R','K','RWA','EL']] = df[['Assigned_PD','Assigned_LGD','Assigned_EAD']].apply(RWA,axis=1)"
   ]
  },
  {
   "cell_type": "code",
   "execution_count": 10,
   "metadata": {},
   "outputs": [
    {
     "data": {
      "text/html": [
       "<div>\n",
       "<style scoped>\n",
       "    .dataframe tbody tr th:only-of-type {\n",
       "        vertical-align: middle;\n",
       "    }\n",
       "\n",
       "    .dataframe tbody tr th {\n",
       "        vertical-align: top;\n",
       "    }\n",
       "\n",
       "    .dataframe thead th {\n",
       "        text-align: right;\n",
       "    }\n",
       "</style>\n",
       "<table border=\"1\" class=\"dataframe\">\n",
       "  <thead>\n",
       "    <tr style=\"text-align: right;\">\n",
       "      <th></th>\n",
       "      <th>Assigned_PD</th>\n",
       "      <th>Assigned_LGD</th>\n",
       "      <th>Assigned_EAD</th>\n",
       "      <th>R</th>\n",
       "      <th>K</th>\n",
       "      <th>RWA</th>\n",
       "      <th>EL</th>\n",
       "    </tr>\n",
       "  </thead>\n",
       "  <tbody>\n",
       "    <tr>\n",
       "      <th>0</th>\n",
       "      <td>0.0929</td>\n",
       "      <td>0.31</td>\n",
       "      <td>30880.46</td>\n",
       "      <td>0.035033</td>\n",
       "      <td>0.040702</td>\n",
       "      <td>16653.673989</td>\n",
       "      <td>889.326368</td>\n",
       "    </tr>\n",
       "    <tr>\n",
       "      <th>1</th>\n",
       "      <td>0.1894</td>\n",
       "      <td>0.31</td>\n",
       "      <td>115799.67</td>\n",
       "      <td>0.030172</td>\n",
       "      <td>0.054027</td>\n",
       "      <td>82896.585364</td>\n",
       "      <td>6799.061824</td>\n",
       "    </tr>\n",
       "  </tbody>\n",
       "</table>\n",
       "</div>"
      ],
      "text/plain": [
       "   Assigned_PD  Assigned_LGD  Assigned_EAD         R         K           RWA  \\\n",
       "0       0.0929          0.31      30880.46  0.035033  0.040702  16653.673989   \n",
       "1       0.1894          0.31     115799.67  0.030172  0.054027  82896.585364   \n",
       "\n",
       "            EL  \n",
       "0   889.326368  \n",
       "1  6799.061824  "
      ]
     },
     "execution_count": 10,
     "metadata": {},
     "output_type": "execute_result"
    }
   ],
   "source": [
    "df"
   ]
  },
  {
   "cell_type": "code",
   "execution_count": 11,
   "metadata": {},
   "outputs": [],
   "source": [
    "df2 = pd.DataFrame(list(zip(lst_PD,lst_LGD,lst_EAD)),columns=['Assigned_PD','Assigned_LGD','Assigned_EAD'])"
   ]
  },
  {
   "cell_type": "code",
   "execution_count": 12,
   "metadata": {},
   "outputs": [
    {
     "data": {
      "text/html": [
       "<div>\n",
       "<style scoped>\n",
       "    .dataframe tbody tr th:only-of-type {\n",
       "        vertical-align: middle;\n",
       "    }\n",
       "\n",
       "    .dataframe tbody tr th {\n",
       "        vertical-align: top;\n",
       "    }\n",
       "\n",
       "    .dataframe thead th {\n",
       "        text-align: right;\n",
       "    }\n",
       "</style>\n",
       "<table border=\"1\" class=\"dataframe\">\n",
       "  <thead>\n",
       "    <tr style=\"text-align: right;\">\n",
       "      <th></th>\n",
       "      <th>Assigned_PD</th>\n",
       "      <th>Assigned_LGD</th>\n",
       "      <th>Assigned_EAD</th>\n",
       "    </tr>\n",
       "  </thead>\n",
       "  <tbody>\n",
       "    <tr>\n",
       "      <th>0</th>\n",
       "      <td>0.0929</td>\n",
       "      <td>0.31</td>\n",
       "      <td>30880.46</td>\n",
       "    </tr>\n",
       "    <tr>\n",
       "      <th>1</th>\n",
       "      <td>0.1894</td>\n",
       "      <td>0.31</td>\n",
       "      <td>115799.67</td>\n",
       "    </tr>\n",
       "  </tbody>\n",
       "</table>\n",
       "</div>"
      ],
      "text/plain": [
       "   Assigned_PD  Assigned_LGD  Assigned_EAD\n",
       "0       0.0929          0.31      30880.46\n",
       "1       0.1894          0.31     115799.67"
      ]
     },
     "execution_count": 12,
     "metadata": {},
     "output_type": "execute_result"
    }
   ],
   "source": [
    "df2"
   ]
  },
  {
   "cell_type": "code",
   "execution_count": 13,
   "metadata": {},
   "outputs": [],
   "source": [
    "df2[['R','K','RWA','EL']] = df2[['Assigned_PD','Assigned_LGD','Assigned_EAD']].apply(RWA,axis=1)"
   ]
  },
  {
   "cell_type": "code",
   "execution_count": 14,
   "metadata": {},
   "outputs": [
    {
     "data": {
      "text/html": [
       "<div>\n",
       "<style scoped>\n",
       "    .dataframe tbody tr th:only-of-type {\n",
       "        vertical-align: middle;\n",
       "    }\n",
       "\n",
       "    .dataframe tbody tr th {\n",
       "        vertical-align: top;\n",
       "    }\n",
       "\n",
       "    .dataframe thead th {\n",
       "        text-align: right;\n",
       "    }\n",
       "</style>\n",
       "<table border=\"1\" class=\"dataframe\">\n",
       "  <thead>\n",
       "    <tr style=\"text-align: right;\">\n",
       "      <th></th>\n",
       "      <th>Assigned_PD</th>\n",
       "      <th>Assigned_LGD</th>\n",
       "      <th>Assigned_EAD</th>\n",
       "      <th>R</th>\n",
       "      <th>K</th>\n",
       "      <th>RWA</th>\n",
       "      <th>EL</th>\n",
       "    </tr>\n",
       "  </thead>\n",
       "  <tbody>\n",
       "    <tr>\n",
       "      <th>0</th>\n",
       "      <td>0.0929</td>\n",
       "      <td>0.31</td>\n",
       "      <td>30880.46</td>\n",
       "      <td>0.035033</td>\n",
       "      <td>0.040702</td>\n",
       "      <td>16653.673989</td>\n",
       "      <td>889.326368</td>\n",
       "    </tr>\n",
       "    <tr>\n",
       "      <th>1</th>\n",
       "      <td>0.1894</td>\n",
       "      <td>0.31</td>\n",
       "      <td>115799.67</td>\n",
       "      <td>0.030172</td>\n",
       "      <td>0.054027</td>\n",
       "      <td>82896.585364</td>\n",
       "      <td>6799.061824</td>\n",
       "    </tr>\n",
       "  </tbody>\n",
       "</table>\n",
       "</div>"
      ],
      "text/plain": [
       "   Assigned_PD  Assigned_LGD  Assigned_EAD         R         K           RWA  \\\n",
       "0       0.0929          0.31      30880.46  0.035033  0.040702  16653.673989   \n",
       "1       0.1894          0.31     115799.67  0.030172  0.054027  82896.585364   \n",
       "\n",
       "            EL  \n",
       "0   889.326368  \n",
       "1  6799.061824  "
      ]
     },
     "execution_count": 14,
     "metadata": {},
     "output_type": "execute_result"
    }
   ],
   "source": [
    "df2"
   ]
  }
 ],
 "metadata": {
  "kernelspec": {
   "display_name": "Python 3",
   "language": "python",
   "name": "python3"
  },
  "language_info": {
   "codemirror_mode": {
    "name": "ipython",
    "version": 3
   },
   "file_extension": ".py",
   "mimetype": "text/x-python",
   "name": "python",
   "nbconvert_exporter": "python",
   "pygments_lexer": "ipython3",
   "version": "3.7.6"
  }
 },
 "nbformat": 4,
 "nbformat_minor": 4
}
